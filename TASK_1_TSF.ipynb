{
  "nbformat": 4,
  "nbformat_minor": 0,
  "metadata": {
    "colab": {
      "name": "TASK 1_TSF.ipynb",
      "provenance": [],
      "collapsed_sections": []
    },
    "kernelspec": {
      "name": "python3",
      "display_name": "Python 3"
    }
  },
  "cells": [
    {
      "cell_type": "markdown",
      "metadata": {
        "id": "eaKNNhXNqEAw"
      },
      "source": [
        "#**TASK NAME : PREDICTION USING SUPERVISED ML**\r\n"
      ]
    },
    {
      "cell_type": "markdown",
      "metadata": {
        "id": "N7_EtcIcrEDx"
      },
      "source": [
        "**PREPARED BY : KIRTHIKAA.M**"
      ]
    },
    {
      "cell_type": "markdown",
      "metadata": {
        "id": "FBqDDy2nqbjZ"
      },
      "source": [
        "**TASK DESCRIPTION : Predicting the percentage of marks a student can score based on the number of study hours utilised.**"
      ]
    },
    {
      "cell_type": "markdown",
      "metadata": {
        "id": "dUuUM3Dnsa0o"
      },
      "source": [
        "**DATA : The number of hours studied and the scores of 25 students**"
      ]
    },
    {
      "cell_type": "markdown",
      "metadata": {
        "id": "EWD2gIy-uSps"
      },
      "source": [
        "#**TASK EXECUTION**"
      ]
    },
    {
      "cell_type": "markdown",
      "metadata": {
        "id": "_9juGShPtaSy"
      },
      "source": [
        "**IMPORTING THE NECESSARY LIBRARIES**"
      ]
    },
    {
      "cell_type": "code",
      "metadata": {
        "id": "0KpF_IKRp_qi"
      },
      "source": [
        "import pandas as pd\r\n",
        "import numpy as np\r\n",
        "import seaborn as sns\r\n",
        "from sklearn.linear_model import LinearRegression\r\n",
        "from sklearn.model_selection import train_test_split\r\n",
        "from sklearn.metrics import r2_score\r\n",
        "from sklearn import metrics   \r\n",
        "import matplotlib.pyplot as plt"
      ],
      "execution_count": 1,
      "outputs": []
    },
    {
      "cell_type": "markdown",
      "metadata": {
        "id": "7smNKi4rvSRz"
      },
      "source": [
        "**CHECKING OUT THE INPUT DATA**"
      ]
    },
    {
      "cell_type": "code",
      "metadata": {
        "colab": {
          "base_uri": "https://localhost:8080/"
        },
        "id": "T9StaaqfySMb",
        "outputId": "88be7b2f-b32b-4258-a5e7-a1ee3300faf7"
      },
      "source": [
        "df = pd.read_csv('https://raw.githubusercontent.com/AdiPersonalWorks/Random/master/student_scores%20-%20student_scores.csv')\r\n",
        "print(df)"
      ],
      "execution_count": 2,
      "outputs": [
        {
          "output_type": "stream",
          "text": [
            "    Hours  Scores\n",
            "0     2.5      21\n",
            "1     5.1      47\n",
            "2     3.2      27\n",
            "3     8.5      75\n",
            "4     3.5      30\n",
            "5     1.5      20\n",
            "6     9.2      88\n",
            "7     5.5      60\n",
            "8     8.3      81\n",
            "9     2.7      25\n",
            "10    7.7      85\n",
            "11    5.9      62\n",
            "12    4.5      41\n",
            "13    3.3      42\n",
            "14    1.1      17\n",
            "15    8.9      95\n",
            "16    2.5      30\n",
            "17    1.9      24\n",
            "18    6.1      67\n",
            "19    7.4      69\n",
            "20    2.7      30\n",
            "21    4.8      54\n",
            "22    3.8      35\n",
            "23    6.9      76\n",
            "24    7.8      86\n"
          ],
          "name": "stdout"
        }
      ]
    },
    {
      "cell_type": "code",
      "metadata": {
        "colab": {
          "base_uri": "https://localhost:8080/"
        },
        "id": "2u10zd_bfAZK",
        "outputId": "605e989a-9884-488c-be6a-23fbf8fa6722"
      },
      "source": [
        "df.info()"
      ],
      "execution_count": 3,
      "outputs": [
        {
          "output_type": "stream",
          "text": [
            "<class 'pandas.core.frame.DataFrame'>\n",
            "RangeIndex: 25 entries, 0 to 24\n",
            "Data columns (total 2 columns):\n",
            " #   Column  Non-Null Count  Dtype  \n",
            "---  ------  --------------  -----  \n",
            " 0   Hours   25 non-null     float64\n",
            " 1   Scores  25 non-null     int64  \n",
            "dtypes: float64(1), int64(1)\n",
            "memory usage: 528.0 bytes\n"
          ],
          "name": "stdout"
        }
      ]
    },
    {
      "cell_type": "code",
      "metadata": {
        "colab": {
          "base_uri": "https://localhost:8080/",
          "height": 287
        },
        "id": "n7VTMJmJx4Zc",
        "outputId": "52dd2d53-c8f7-4579-ae81-fc02bc6c0441"
      },
      "source": [
        "df.describe()"
      ],
      "execution_count": 4,
      "outputs": [
        {
          "output_type": "execute_result",
          "data": {
            "text/html": [
              "<div>\n",
              "<style scoped>\n",
              "    .dataframe tbody tr th:only-of-type {\n",
              "        vertical-align: middle;\n",
              "    }\n",
              "\n",
              "    .dataframe tbody tr th {\n",
              "        vertical-align: top;\n",
              "    }\n",
              "\n",
              "    .dataframe thead th {\n",
              "        text-align: right;\n",
              "    }\n",
              "</style>\n",
              "<table border=\"1\" class=\"dataframe\">\n",
              "  <thead>\n",
              "    <tr style=\"text-align: right;\">\n",
              "      <th></th>\n",
              "      <th>Hours</th>\n",
              "      <th>Scores</th>\n",
              "    </tr>\n",
              "  </thead>\n",
              "  <tbody>\n",
              "    <tr>\n",
              "      <th>count</th>\n",
              "      <td>25.000000</td>\n",
              "      <td>25.000000</td>\n",
              "    </tr>\n",
              "    <tr>\n",
              "      <th>mean</th>\n",
              "      <td>5.012000</td>\n",
              "      <td>51.480000</td>\n",
              "    </tr>\n",
              "    <tr>\n",
              "      <th>std</th>\n",
              "      <td>2.525094</td>\n",
              "      <td>25.286887</td>\n",
              "    </tr>\n",
              "    <tr>\n",
              "      <th>min</th>\n",
              "      <td>1.100000</td>\n",
              "      <td>17.000000</td>\n",
              "    </tr>\n",
              "    <tr>\n",
              "      <th>25%</th>\n",
              "      <td>2.700000</td>\n",
              "      <td>30.000000</td>\n",
              "    </tr>\n",
              "    <tr>\n",
              "      <th>50%</th>\n",
              "      <td>4.800000</td>\n",
              "      <td>47.000000</td>\n",
              "    </tr>\n",
              "    <tr>\n",
              "      <th>75%</th>\n",
              "      <td>7.400000</td>\n",
              "      <td>75.000000</td>\n",
              "    </tr>\n",
              "    <tr>\n",
              "      <th>max</th>\n",
              "      <td>9.200000</td>\n",
              "      <td>95.000000</td>\n",
              "    </tr>\n",
              "  </tbody>\n",
              "</table>\n",
              "</div>"
            ],
            "text/plain": [
              "           Hours     Scores\n",
              "count  25.000000  25.000000\n",
              "mean    5.012000  51.480000\n",
              "std     2.525094  25.286887\n",
              "min     1.100000  17.000000\n",
              "25%     2.700000  30.000000\n",
              "50%     4.800000  47.000000\n",
              "75%     7.400000  75.000000\n",
              "max     9.200000  95.000000"
            ]
          },
          "metadata": {
            "tags": []
          },
          "execution_count": 4
        }
      ]
    },
    {
      "cell_type": "markdown",
      "metadata": {
        "id": "smN83A_tvoi1"
      },
      "source": [
        "**VISUALISING THE RELATIONSHIP OF THE VARIABLES**"
      ]
    },
    {
      "cell_type": "code",
      "metadata": {
        "colab": {
          "base_uri": "https://localhost:8080/",
          "height": 296
        },
        "id": "fY9X5nRoyAze",
        "outputId": "592889c1-c91d-49df-b484-096bd3b4a9d2"
      },
      "source": [
        "sns.scatterplot(data=df,x=df.Hours,y=df.Scores)"
      ],
      "execution_count": 5,
      "outputs": [
        {
          "output_type": "execute_result",
          "data": {
            "text/plain": [
              "<matplotlib.axes._subplots.AxesSubplot at 0x7f2966ff5208>"
            ]
          },
          "metadata": {
            "tags": []
          },
          "execution_count": 5
        },
        {
          "output_type": "display_data",
          "data": {
            "image/png": "[encoded data removed]",
            "text/plain": [
              "<Figure size 432x288 with 1 Axes>"
            ]
          },
          "metadata": {
            "tags": [],
            "needs_background": "light"
          }
        }
      ]
    },
    {
      "cell_type": "markdown",
      "metadata": {
        "id": "Yi1kV8pVv1xA"
      },
      "source": [
        "**As seen from the graph, the variables have a positive linear relationship between them and thus we can proceed forward to use the linear regression model to make predictions from the data.**"
      ]
    },
    {
      "cell_type": "markdown",
      "metadata": {
        "id": "KOexgpRJw2uH"
      },
      "source": [
        "**TRAINING A LINEAR REGRESSION MODEL**"
      ]
    },
    {
      "cell_type": "markdown",
      "metadata": {
        "id": "nOclUIf9w-ae"
      },
      "source": [
        "**We have to split the data into two variables X and y with X being the independent or input or predictor variable(number of study hours) and y being the dependent or output or predicted variable(percentage of marks).**"
      ]
    },
    {
      "cell_type": "code",
      "metadata": {
        "colab": {
          "base_uri": "https://localhost:8080/"
        },
        "id": "6L6_hFte2jQ2",
        "outputId": "7f5e3617-936a-40f3-83a0-4d09a4865d05"
      },
      "source": [
        "X = df[['Hours']]\r\n",
        "y = df['Scores']\r\n",
        "print(X.shape)\r\n",
        "print(y.shape)"
      ],
      "execution_count": 6,
      "outputs": [
        {
          "output_type": "stream",
          "text": [
            "(25, 1)\n",
            "(25,)\n"
          ],
          "name": "stdout"
        }
      ]
    },
    {
      "cell_type": "markdown",
      "metadata": {
        "id": "arsiocJE24b8"
      },
      "source": [
        "**SPLITTING THE DATA INTO TRAIN AND TEST SETS**"
      ]
    },
    {
      "cell_type": "code",
      "metadata": {
        "colab": {
          "base_uri": "https://localhost:8080/"
        },
        "id": "6YeM6EcC3Cxv",
        "outputId": "25685bdf-7456-4da3-e5f8-6a32d5146341"
      },
      "source": [
        "# Splitting the data such that 80 % of data is used for training and 20 % is used for testing.\r\n",
        "x_train,x_test,y_train,y_test = train_test_split(X,y, test_size=0.2, random_state=101)\r\n",
        "print(type(x_train))\r\n",
        "print(type(y_train))\r\n",
        "print(type(x_test))\r\n",
        "print(type(y_test))"
      ],
      "execution_count": 7,
      "outputs": [
        {
          "output_type": "stream",
          "text": [
            "<class 'pandas.core.frame.DataFrame'>\n",
            "<class 'pandas.core.series.Series'>\n",
            "<class 'pandas.core.frame.DataFrame'>\n",
            "<class 'pandas.core.series.Series'>\n"
          ],
          "name": "stdout"
        }
      ]
    },
    {
      "cell_type": "code",
      "metadata": {
        "colab": {
          "base_uri": "https://localhost:8080/"
        },
        "id": "mG1AOxGRNDeX",
        "outputId": "8c84561f-0983-4e6e-ca18-fa9fe6bbb497"
      },
      "source": [
        "print(x_train.shape)\r\n",
        "print(x_test.shape)\r\n",
        "print(y_train.shape)\r\n",
        "print(y_test.shape)"
      ],
      "execution_count": 8,
      "outputs": [
        {
          "output_type": "stream",
          "text": [
            "(20, 1)\n",
            "(5, 1)\n",
            "(20,)\n",
            "(5,)\n"
          ],
          "name": "stdout"
        }
      ]
    },
    {
      "cell_type": "markdown",
      "metadata": {
        "id": "nvWoV1f96AR1"
      },
      "source": [
        "**CREATING AND TRAINING THE MODEL**"
      ]
    },
    {
      "cell_type": "code",
      "metadata": {
        "colab": {
          "base_uri": "https://localhost:8080/"
        },
        "id": "-rVxTok_7Wfh",
        "outputId": "5922fcd8-5e62-468a-f32a-5887d54cecc5"
      },
      "source": [
        "lr = LinearRegression()\r\n",
        "lr.fit(x_train,y_train)"
      ],
      "execution_count": 9,
      "outputs": [
        {
          "output_type": "execute_result",
          "data": {
            "text/plain": [
              "LinearRegression(copy_X=True, fit_intercept=True, n_jobs=None, normalize=False)"
            ]
          },
          "metadata": {
            "tags": []
          },
          "execution_count": 9
        }
      ]
    },
    {
      "cell_type": "markdown",
      "metadata": {
        "id": "3mhfZlPs8YrA"
      },
      "source": [
        "**VISUALISING THE REGRESSION LINE PREDICTED BY THE MODEL**"
      ]
    },
    {
      "cell_type": "code",
      "metadata": {
        "colab": {
          "base_uri": "https://localhost:8080/"
        },
        "id": "-wLPHxBxjhzH",
        "outputId": "63be6f53-19b8-49bf-98d4-15f47d2ea9be"
      },
      "source": [
        "print(lr.intercept_)"
      ],
      "execution_count": 10,
      "outputs": [
        {
          "output_type": "stream",
          "text": [
            "2.5121292983200902\n"
          ],
          "name": "stdout"
        }
      ]
    },
    {
      "cell_type": "code",
      "metadata": {
        "colab": {
          "base_uri": "https://localhost:8080/"
        },
        "id": "FE5ITeECjljx",
        "outputId": "d734e57e-6564-4ba5-bfbc-dbe26c8f47d3"
      },
      "source": [
        "print(lr.coef_)"
      ],
      "execution_count": 11,
      "outputs": [
        {
          "output_type": "stream",
          "text": [
            "[9.73330705]\n"
          ],
          "name": "stdout"
        }
      ]
    },
    {
      "cell_type": "code",
      "metadata": {
        "colab": {
          "base_uri": "https://localhost:8080/",
          "height": 294
        },
        "id": "1MsSHVNmi3D5",
        "outputId": "bb93e977-85ca-4e12-c703-bececd293ba8"
      },
      "source": [
        "# Plotting the regression line\r\n",
        "line = lr.coef_*X+lr.intercept_\r\n",
        "plt.scatter(X, y)\r\n",
        "plt.plot(X, line);\r\n",
        "plt.title('Hours vs Percentage')  \r\n",
        "plt.xlabel('Number of study hours')  \r\n",
        "plt.ylabel('Percentage of marks scored') \r\n",
        "plt.show()"
      ],
      "execution_count": 12,
      "outputs": [
        {
          "output_type": "display_data",
          "data": {
            "image/png": "[encoded data removed]",
            "text/plain": [
              "<Figure size 432x288 with 1 Axes>"
            ]
          },
          "metadata": {
            "tags": [],
            "needs_background": "light"
          }
        }
      ]
    },
    {
      "cell_type": "markdown",
      "metadata": {
        "id": "yhl-M4IC6uOt"
      },
      "source": [
        "**MAKING PREDICTIONS FROM THE MODEL**"
      ]
    },
    {
      "cell_type": "code",
      "metadata": {
        "colab": {
          "base_uri": "https://localhost:8080/",
          "height": 197
        },
        "id": "cTZq1QM2Lvc0",
        "outputId": "1e57bb42-f4b2-4c2e-a4ea-40d1646bd920"
      },
      "source": [
        "y_pred = lr.predict(x_test)\r\n",
        "df1 = pd.DataFrame({'Actual values': y_test, 'Predicted values': y_pred})  \r\n",
        "df1"
      ],
      "execution_count": 18,
      "outputs": [
        {
          "output_type": "execute_result",
          "data": {
            "text/html": [
              "<div>\n",
              "<style scoped>\n",
              "    .dataframe tbody tr th:only-of-type {\n",
              "        vertical-align: middle;\n",
              "    }\n",
              "\n",
              "    .dataframe tbody tr th {\n",
              "        vertical-align: top;\n",
              "    }\n",
              "\n",
              "    .dataframe thead th {\n",
              "        text-align: right;\n",
              "    }\n",
              "</style>\n",
              "<table border=\"1\" class=\"dataframe\">\n",
              "  <thead>\n",
              "    <tr style=\"text-align: right;\">\n",
              "      <th></th>\n",
              "      <th>Actual values</th>\n",
              "      <th>Predicted values</th>\n",
              "    </tr>\n",
              "  </thead>\n",
              "  <tbody>\n",
              "    <tr>\n",
              "      <th>16</th>\n",
              "      <td>30</td>\n",
              "      <td>26.845397</td>\n",
              "    </tr>\n",
              "    <tr>\n",
              "      <th>10</th>\n",
              "      <td>85</td>\n",
              "      <td>77.458594</td>\n",
              "    </tr>\n",
              "    <tr>\n",
              "      <th>22</th>\n",
              "      <td>35</td>\n",
              "      <td>39.498696</td>\n",
              "    </tr>\n",
              "    <tr>\n",
              "      <th>19</th>\n",
              "      <td>69</td>\n",
              "      <td>74.538601</td>\n",
              "    </tr>\n",
              "    <tr>\n",
              "      <th>7</th>\n",
              "      <td>60</td>\n",
              "      <td>56.045318</td>\n",
              "    </tr>\n",
              "  </tbody>\n",
              "</table>\n",
              "</div>"
            ],
            "text/plain": [
              "    Actual values  Predicted values\n",
              "16             30         26.845397\n",
              "10             85         77.458594\n",
              "22             35         39.498696\n",
              "19             69         74.538601\n",
              "7              60         56.045318"
            ]
          },
          "metadata": {
            "tags": []
          },
          "execution_count": 18
        }
      ]
    },
    {
      "cell_type": "markdown",
      "metadata": {
        "id": "IAFplxZu6_8h"
      },
      "source": [
        "**EVALUATING THE MODEL**"
      ]
    },
    {
      "cell_type": "code",
      "metadata": {
        "colab": {
          "base_uri": "https://localhost:8080/"
        },
        "id": "KdXSWRrlMLnK",
        "outputId": "77dbd73b-9636-47a3-c2a9-e0d7c7df4013"
      },
      "source": [
        "lr.score(x_test,y_test)"
      ],
      "execution_count": null,
      "outputs": [
        {
          "output_type": "execute_result",
          "data": {
            "text/plain": [
              "0.9696064122424448"
            ]
          },
          "metadata": {
            "tags": []
          },
          "execution_count": 18
        }
      ]
    },
    {
      "cell_type": "markdown",
      "metadata": {
        "id": "8G3nEZasBgCy"
      },
      "source": [
        "**This value represents the coefficient of determination which is a statistical measure of how close the data is to the fitted regression line. The value shows that it is a good fit.**"
      ]
    },
    {
      "cell_type": "code",
      "metadata": {
        "colab": {
          "base_uri": "https://localhost:8080/"
        },
        "id": "1ca7gwQniu4l",
        "outputId": "a0bf7f50-e495-407d-f3b1-63b32dd7f475"
      },
      "source": [
        "print('Mean Absolute Error:', \r\n",
        "      metrics.mean_absolute_error(y_test, y_pred)) "
      ],
      "execution_count": null,
      "outputs": [
        {
          "output_type": "stream",
          "text": [
            "Mean Absolute Error: 4.370717604368028\n"
          ],
          "name": "stdout"
        }
      ]
    },
    {
      "cell_type": "markdown",
      "metadata": {
        "id": "3erijzU4m2xV"
      },
      "source": [
        "**Mean Absolute Error gives the absolute difference between the actual data and the model’s predictions. This MAE suggests that the model is good at predcition.**"
      ]
    },
    {
      "cell_type": "markdown",
      "metadata": {
        "id": "eGC-jKNcAvGa"
      },
      "source": [
        "**MAKING THE FINAL PREDICTIONS**"
      ]
    },
    {
      "cell_type": "code",
      "metadata": {
        "colab": {
          "base_uri": "https://localhost:8080/"
        },
        "id": "LcizR91QLldE",
        "outputId": "2625625d-bd3a-42e6-d0d1-b7594098f405"
      },
      "source": [
        "score = lr.predict([[9.25]])\r\n",
        "print('The score is {}'.format(score[0]))\r\n"
      ],
      "execution_count": null,
      "outputs": [
        {
          "output_type": "stream",
          "text": [
            "The score is 93.12797164852307\n"
          ],
          "name": "stdout"
        }
      ]
    },
    {
      "cell_type": "markdown",
      "metadata": {
        "id": "G-kq4mulnVru"
      },
      "source": [
        "**If a student studies for 9.25 hours in a day, the score which the student is expected to get is 93.13%.**"
      ]
    }
  ]
}